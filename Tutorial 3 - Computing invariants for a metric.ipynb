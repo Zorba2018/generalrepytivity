{
 "cells": [
  {
   "cell_type": "markdown",
   "metadata": {},
   "source": [
    "# Summary of last tutorials "
   ]
  },
  {
   "cell_type": "markdown",
   "metadata": {},
   "source": [
    "In Tutorial 1 we got to know all about the creation of a `Tensor` object and some of the operations regarding it, and Tutorial 2 was all about index manipulation. In this third and last tutorial we deal with more geometric objects such as christoffel symbols, which represent the action of the Levi-Civita connection once we fix coordinates, and the Riemann, Ricci and Einstein tensors."
   ]
  },
  {
   "cell_type": "markdown",
   "metadata": {},
   "source": [
    "# Christoffel symbols "
   ]
  },
  {
   "cell_type": "markdown",
   "metadata": {},
   "source": []
  },
  {
   "cell_type": "markdown",
   "metadata": {},
   "source": [
    "# A practical example: Gödel's solution to Einstein's Field Equations "
   ]
  },
  {
   "cell_type": "markdown",
   "metadata": {},
   "source": [
    "Gödel's solution to Einstein's equations is given by the following metric:\n",
    "\n",
    "$$ g = a^2(dx_0\\otimes dx_0 - dx_1\\otimes dx_1 + (e^{2x_1}/2)dx_2\\otimes dx_2 - dx_3\\otimes dx_3 + 2e^{x_1}dx_0\\otimes dx_2) $$"
   ]
  }
 ],
 "metadata": {
  "kernelspec": {
   "display_name": "Python 3",
   "language": "python",
   "name": "python3"
  },
  "language_info": {
   "codemirror_mode": {
    "name": "ipython",
    "version": 3
   },
   "file_extension": ".py",
   "mimetype": "text/x-python",
   "name": "python",
   "nbconvert_exporter": "python",
   "pygments_lexer": "ipython3",
   "version": "3.5.2"
  }
 },
 "nbformat": 4,
 "nbformat_minor": 2
}
