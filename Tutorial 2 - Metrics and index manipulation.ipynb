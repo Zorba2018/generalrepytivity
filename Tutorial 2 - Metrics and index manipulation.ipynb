{
 "cells": [
  {
   "cell_type": "markdown",
   "metadata": {},
   "source": [
    "# Summary of last tutorial "
   ]
  },
  {
   "cell_type": "code",
   "execution_count": 2,
   "metadata": {
    "collapsed": true
   },
   "outputs": [],
   "source": [
    "import generalrelativity as gr\n",
    "import sympy\n",
    "sympy.init_printing(use_latex=True)"
   ]
  },
  {
   "cell_type": "markdown",
   "metadata": {},
   "source": [
    "In the first tutorial we got to know about the `Tensor` object in `generalrelativity`. It can be created by specifying a basis of sympy symbols, a type $(p,q)$ and a dict of values. In this one we use metrics (that is, $(0,2)$-tensors that can be represented by a non-degenerate symmetric matrix) to raise and lower indices, and we also talk about index contraction."
   ]
  },
  {
   "cell_type": "markdown",
   "metadata": {},
   "source": [
    "# The (0,2)-Tensor to matrix equivalence. "
   ]
  },
  {
   "cell_type": "markdown",
   "metadata": {},
   "source": [
    "`generalrelativity` has two functions: one gets an $(0,2)$-tensor from a matrix and the other one gets a matrix from an $(0,2)$-tensor."
   ]
  },
  {
   "cell_type": "code",
   "execution_count": 3,
   "metadata": {},
   "outputs": [
    {
     "data": {
      "image/png": "[encoded data removed]",
      "text/latex": [
       "$$\\left[\\begin{matrix}-1 & 0 & 0 & 0\\\\0 & 1 & 0 & 0\\\\0 & 0 & 1 & 0\\\\0 & 0 & 0 & 1\\end{matrix}\\right]$$"
      ],
      "text/plain": [
       "⎡-1  0  0  0⎤\n",
       "⎢           ⎥\n",
       "⎢0   1  0  0⎥\n",
       "⎢           ⎥\n",
       "⎢0   0  1  0⎥\n",
       "⎢           ⎥\n",
       "⎣0   0  0  1⎦"
      ]
     },
     "execution_count": 3,
     "metadata": {},
     "output_type": "execute_result"
    }
   ],
   "source": [
    "A = sympy.diag(-1, 1, 1, 1)\n",
    "A"
   ]
  },
  {
   "cell_type": "code",
   "execution_count": 6,
   "metadata": {},
   "outputs": [
    {
     "data": {
      "text/latex": [
       "$(1)e_2^* \\otimes e_2^* + (1)e_1^* \\otimes e_1^* + (-1)e_0^* \\otimes e_0^* + (1)e_3^* \\otimes e_3^*$"
      ],
      "text/plain": [
       "(1)e_2* \\otimes e_2* + (1)e_1* \\otimes e_1* + (-1)e_0* \\otimes e_0* + (1)e_3* \\otimes e_3*"
      ]
     },
     "execution_count": 6,
     "metadata": {},
     "output_type": "execute_result"
    }
   ],
   "source": [
    "e0, e1, e2, e3 = sympy.symbols('e_0 e_1 e_2 e_3')\n",
    "basis = [e0, e1, e2, e3]\n",
    "T = gr.get_tensor_from_matrix(A, basis)\n",
    "T"
   ]
  },
  {
   "cell_type": "code",
   "execution_count": 10,
   "metadata": {},
   "outputs": [
    {
     "data": {
      "image/png": "[encoded data removed]",
      "text/latex": [
       "$$\\left[\\begin{matrix}-1 & 0 & 0 & 0\\\\0 & 0 & 1 & 0\\\\0 & 1 & 0 & 0\\\\0 & 0 & 0 & 2\\end{matrix}\\right]$$"
      ],
      "text/plain": [
       "⎡-1  0  0  0⎤\n",
       "⎢           ⎥\n",
       "⎢0   0  1  0⎥\n",
       "⎢           ⎥\n",
       "⎢0   1  0  0⎥\n",
       "⎢           ⎥\n",
       "⎣0   0  0  2⎦"
      ]
     },
     "execution_count": 10,
     "metadata": {},
     "output_type": "execute_result"
    }
   ],
   "source": [
    "dict_of_values = {\n",
    "    (0,0): -1,\n",
    "    (1,2): 1,\n",
    "    (2,1): 1,\n",
    "    (3,3): 2\n",
    "}\n",
    "S = gr.Tensor(basis, (0, 2), dict_of_values)\n",
    "S_matrix = gr.get_matrix_from_tensor(S)\n",
    "S_matrix"
   ]
  },
  {
   "cell_type": "markdown",
   "metadata": {},
   "source": [
    "# Raising and lowering indices using a metric"
   ]
  },
  {
   "cell_type": "markdown",
   "metadata": {},
   "source": [
    "A very common operation in general relativity is **raising and lowering indices** (with respect "
   ]
  }
 ],
 "metadata": {
  "kernelspec": {
   "display_name": "Python 3",
   "language": "python",
   "name": "python3"
  },
  "language_info": {
   "codemirror_mode": {
    "name": "ipython",
    "version": 3
   },
   "file_extension": ".py",
   "mimetype": "text/x-python",
   "name": "python",
   "nbconvert_exporter": "python",
   "pygments_lexer": "ipython3",
   "version": "3.5.2"
  }
 },
 "nbformat": 4,
 "nbformat_minor": 2
}
