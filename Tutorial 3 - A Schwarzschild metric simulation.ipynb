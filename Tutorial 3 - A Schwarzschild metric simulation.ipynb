{
 "cells": [
  {
   "cell_type": "code",
   "execution_count": 1,
   "metadata": {
    "collapsed": true
   },
   "outputs": [],
   "source": [
    "import generalrelativity as gr\n",
    "import sympy\n",
    "from pprint import pprint\n",
    "sympy.init_printing(use_latex=True)"
   ]
  },
  {
   "cell_type": "markdown",
   "metadata": {},
   "source": [
    "# Introduction "
   ]
  },
  {
   "cell_type": "markdown",
   "metadata": {},
   "source": [
    "In this third and last tutorial, we use `generalrelativity` to perform a simulation of black holes by considering the Schwarzschild metric."
   ]
  },
  {
   "cell_type": "markdown",
   "metadata": {},
   "source": [
    "# The Schwarzschild metric "
   ]
  },
  {
   "cell_type": "markdown",
   "metadata": {},
   "source": [
    "The Schwarzschild metric has two presentations (one in terms of the Schwarzschild radius $R_s$ and the other in terms of its aproximation to $2m$):\n",
    "\n",
    "$$ g = -\\left(1 - \\frac{R_s}{r}\\right)dt\\otimes dt +\\left(1 - \\frac{R_s}{r}\\right)^{-1}dr\\otimes dr + r^2d\\theta\\otimes d\\theta + r^2\\sin^2(\\theta)d\\phi\\otimes d\\phi$$\n",
    "\n",
    "or, when replacing $R_s = 2mG_n/c^2$ (or, in geometrical units, $R_s = 2m$),\n",
    "\n",
    "$$ g = -\\left(1 - \\frac{2mG_n}{c^2r}\\right)cdt\\otimes cdt +\\left(1 - \\frac{2mG_n}{c^2r}\\right)^{-1}dr\\otimes dr + r^2d\\theta\\otimes d\\theta + r^2\\sin^2(\\theta)d\\phi\\otimes d\\phi$$\n",
    "\n",
    "Lets create the metric in `generalrelativity`."
   ]
  },
  {
   "cell_type": "code",
   "execution_count": 2,
   "metadata": {
    "collapsed": true
   },
   "outputs": [],
   "source": [
    "t, r, theta, phi = sympy.symbols('t r \\\\theta \\\\phi')\n",
    "m, Gn, c, Rs = sympy.symbols('m G_n c R_s', float=True)"
   ]
  },
  {
   "cell_type": "code",
   "execution_count": 3,
   "metadata": {},
   "outputs": [
    {
     "data": {
      "image/png": "[encoded data removed]",
      "text/latex": [
       "$$\\left[\\begin{matrix}\\frac{R_{s}}{r} - 1 & 0 & 0 & 0\\\\0 & \\frac{1}{- \\frac{R_{s}}{r} + 1} & 0 & 0\\\\0 & 0 & r^{2} & 0\\\\0 & 0 & 0 & r^{2} \\sin^{2}{\\left (\\theta \\right )}\\end{matrix}\\right]$$"
      ],
      "text/plain": [
       "⎡Rₛ                                   ⎤\n",
       "⎢── - 1     0      0          0       ⎥\n",
       "⎢r                                    ⎥\n",
       "⎢                                     ⎥\n",
       "⎢           1                         ⎥\n",
       "⎢  0     ────────  0          0       ⎥\n",
       "⎢          Rₛ                         ⎥\n",
       "⎢        - ── + 1                     ⎥\n",
       "⎢          r                          ⎥\n",
       "⎢                                     ⎥\n",
       "⎢                   2                 ⎥\n",
       "⎢  0        0      r          0       ⎥\n",
       "⎢                                     ⎥\n",
       "⎢                       2    2        ⎥\n",
       "⎣  0        0      0   r ⋅sin (\\theta)⎦"
      ]
     },
     "execution_count": 3,
     "metadata": {},
     "output_type": "execute_result"
    }
   ],
   "source": [
    "g_matrix = sympy.diag(\n",
    "    -(1-Rs/r),\n",
    "    1/(1-Rs/r),\n",
    "    r**2,\n",
    "    r**2*sympy.sin(theta)**2\n",
    ")\n",
    "g_matrix"
   ]
  },
  {
   "cell_type": "code",
   "execution_count": 4,
   "metadata": {},
   "outputs": [
    {
     "data": {
      "text/latex": [
       "$(r^{2})d\\theta \\otimes d\\theta + (\\frac{r}{- R_{s} + r})dr \\otimes dr + (\\frac{1}{r} \\left(R_{s} - r\\right))dt \\otimes dt + (r^{2} \\sin^{2}{\\left (\\theta \\right )})d\\phi \\otimes d\\phi$"
      ],
      "text/plain": [
       "(r**2)\\theta* \\otimes \\theta* + (r/(-R_s + r))r* \\otimes r* + ((R_s - r)/r)t* \\otimes t* + (r**2*sin(\\theta)**2)\\phi* \\otimes \\phi*"
      ]
     },
     "execution_count": 4,
     "metadata": {},
     "output_type": "execute_result"
    }
   ],
   "source": [
    "g = gr.get_tensor_from_matrix(g_matrix, [t, r, theta, phi])\n",
    "g"
   ]
  },
  {
   "cell_type": "code",
   "execution_count": 5,
   "metadata": {},
   "outputs": [
    {
     "data": {
      "text/latex": [
       "$(r^{2})d\\theta \\otimes d\\theta + (\\frac{c^{2} r}{- 2 G_{n} m + c^{2} r})dr \\otimes dr + (\\frac{2 G_{n} m}{c^{2} r} - 1)dt \\otimes dt + (r^{2} \\sin^{2}{\\left (\\theta \\right )})d\\phi \\otimes d\\phi$"
      ],
      "text/plain": [
       "(r**2)\\theta* \\otimes \\theta* + (c**2*r/(-2*G_n*m + c**2*r))r* \\otimes r* + (2*G_n*m/(c**2*r) - 1)t* \\otimes t* + (r**2*sin(\\theta)**2)\\phi* \\otimes \\phi*"
      ]
     },
     "execution_count": 5,
     "metadata": {},
     "output_type": "execute_result"
    }
   ],
   "source": [
    "other_g = g.subs([(Rs, 2*Gn*m/c**2)])\n",
    "other_g"
   ]
  },
  {
   "cell_type": "markdown",
   "metadata": {},
   "source": [
    "## Schwarzschild spacetime"
   ]
  },
  {
   "cell_type": "markdown",
   "metadata": {},
   "source": [
    "`generalrelativity` comes with an object called `Spacetime`, which holds the essential tensors that one can get from a metric $g$. The syntax is just\n",
    "\n",
    "```python\n",
    "M = gr.Spacetime(metric)\n",
    "```\n",
    "\n",
    "For example, let's create a spacetime object with Schwarzschild's metric:"
   ]
  },
  {
   "cell_type": "code",
   "execution_count": 6,
   "metadata": {},
   "outputs": [
    {
     "name": "stdout",
     "output_type": "stream",
     "text": [
      "Computing Christoffel Symbols\n",
      "Computing Riemann tensor\n",
      "Computing Ricci tensor\n",
      "Computing Scalar Curvature\n",
      "Computing Einstein's tensor\n"
     ]
    }
   ],
   "source": [
    "M = gr.Spacetime(other_g)"
   ]
  },
  {
   "cell_type": "markdown",
   "metadata": {},
   "source": [
    "Among the assumptions that are made to derive Schwarzschild metric, is that it represents a *Ricci flat* spacetime (i.e. $Ric = 0$). Let's verify that this is true:"
   ]
  },
  {
   "cell_type": "code",
   "execution_count": 7,
   "metadata": {},
   "outputs": [
    {
     "data": {
      "text/latex": [
       "$0$"
      ],
      "text/plain": [
       "0"
      ]
     },
     "execution_count": 7,
     "metadata": {},
     "output_type": "execute_result"
    }
   ],
   "source": [
    "M.Ric"
   ]
  },
  {
   "cell_type": "code",
   "execution_count": 8,
   "metadata": {},
   "outputs": [
    {
     "name": "stdout",
     "output_type": "stream",
     "text": [
      "{((0,), (0, 1)): -1.0*G_n*m/(r*(2*G_n*m - c**2*r)),\n",
      " ((0,), (1, 0)): -1.0*G_n*m/(r*(2*G_n*m - c**2*r)),\n",
      " ((1,), (0, 0)): -1.0*G_n*m*(2*G_n*m - c**2*r)/(c**4*r**3),\n",
      " ((1,), (1, 1)): G_n*m/(r*(2*G_n*m - c**2*r)),\n",
      " ((1,), (2, 2)): 2.0*G_n*m/c**2 - 1.0*r,\n",
      " ((1,), (3, 3)): (2.0*G_n*m - 1.0*c**2*r)*sin(\\theta)**2/c**2,\n",
      " ((2,), (1, 2)): 1.0/r,\n",
      " ((2,), (2, 1)): 1.0/r,\n",
      " ((2,), (3, 3)): -0.5*sin(2*\\theta),\n",
      " ((3,), (1, 3)): 1.0/r,\n",
      " ((3,), (2, 3)): 1.0/tan(\\theta),\n",
      " ((3,), (3, 1)): 1.0/r,\n",
      " ((3,), (3, 2)): 1.0/tan(\\theta)}\n"
     ]
    }
   ],
   "source": [
    "pprint(M.christoffel_symbols.values)"
   ]
  }
 ],
 "metadata": {
  "kernelspec": {
   "display_name": "Python 3",
   "language": "python",
   "name": "python3"
  },
  "language_info": {
   "codemirror_mode": {
    "name": "ipython",
    "version": 3
   },
   "file_extension": ".py",
   "mimetype": "text/x-python",
   "name": "python",
   "nbconvert_exporter": "python",
   "pygments_lexer": "ipython3",
   "version": "3.5.2"
  }
 },
 "nbformat": 4,
 "nbformat_minor": 2
}
