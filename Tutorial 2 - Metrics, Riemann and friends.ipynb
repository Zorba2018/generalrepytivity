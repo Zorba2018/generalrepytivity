{
 "cells": [
  {
   "cell_type": "markdown",
   "metadata": {},
   "source": [
    "# Metrics and differential geometry"
   ]
  },
  {
   "cell_type": "code",
   "execution_count": 1,
   "metadata": {
    "collapsed": true
   },
   "outputs": [],
   "source": [
    "import generalrelativity as gr\n",
    "import sympy\n",
    "sympy.init_printing(use_latex=True)"
   ]
  },
  {
   "cell_type": "code",
   "execution_count": 2,
   "metadata": {
    "collapsed": true
   },
   "outputs": [],
   "source": [
    "from pprint import pprint"
   ]
  },
  {
   "cell_type": "markdown",
   "metadata": {},
   "source": [
    "# Summary of last tutorial "
   ]
  },
  {
   "cell_type": "markdown",
   "metadata": {},
   "source": [
    "In the first tutorial we got to know about the `Tensor` object in `generalrelativity`. It can be created by specifying a basis of sympy symbols, a type $(p,q)$ and a dict of values. In this one we use metrics (that is, $(0,2)$-tensors that can be represented by a non-degenerate symmetric matrix) to raise and lower indices, and we also talk about index contraction."
   ]
  },
  {
   "cell_type": "markdown",
   "metadata": {},
   "source": [
    "# The (0,2)-Tensor to matrix equivalence. "
   ]
  },
  {
   "cell_type": "markdown",
   "metadata": {},
   "source": [
    "`generalrelativity` has two functions: one gets an $(0,2)$-tensor from a matrix and the other one gets a matrix from an $(0,2)$-tensor. Their syntaxes are:\n",
    "\n",
    "```python\n",
    "new_tensor = gr.get_tensor_from_matrix(matrix, basis)\n",
    "new_matrix = gr.get_matrix_from_tensor(tensor)\n",
    "```\n",
    "\n",
    "For example"
   ]
  },
  {
   "cell_type": "code",
   "execution_count": 3,
   "metadata": {},
   "outputs": [
    {
     "data": {
      "image/png": "[encoded data removed]",
      "text/latex": [
       "$$\\left[\\begin{matrix}-1 & 0 & 0 & 0\\\\0 & 1 & 0 & 0\\\\0 & 0 & 1 & 0\\\\0 & 0 & 0 & 1\\end{matrix}\\right]$$"
      ],
      "text/plain": [
       "⎡-1  0  0  0⎤\n",
       "⎢           ⎥\n",
       "⎢0   1  0  0⎥\n",
       "⎢           ⎥\n",
       "⎢0   0  1  0⎥\n",
       "⎢           ⎥\n",
       "⎣0   0  0  1⎦"
      ]
     },
     "execution_count": 3,
     "metadata": {},
     "output_type": "execute_result"
    }
   ],
   "source": [
    "A = sympy.diag(-1, 1, 1, 1)\n",
    "A"
   ]
  },
  {
   "cell_type": "code",
   "execution_count": 4,
   "metadata": {},
   "outputs": [
    {
     "data": {
      "text/latex": [
       "$(1)de_2 \\otimes de_2 + (1)de_1 \\otimes de_1 + (-1)de_0 \\otimes de_0 + (1)de_3 \\otimes de_3$"
      ],
      "text/plain": [
       "(1)e_2* \\otimes e_2* + (1)e_1* \\otimes e_1* + (-1)e_0* \\otimes e_0* + (1)e_3* \\otimes e_3*"
      ]
     },
     "execution_count": 4,
     "metadata": {},
     "output_type": "execute_result"
    }
   ],
   "source": [
    "e0, e1, e2, e3 = sympy.symbols('e_0 e_1 e_2 e_3')\n",
    "basis = [e0, e1, e2, e3]\n",
    "T = gr.get_tensor_from_matrix(A, basis)\n",
    "T"
   ]
  },
  {
   "cell_type": "code",
   "execution_count": 5,
   "metadata": {},
   "outputs": [
    {
     "data": {
      "image/png": "[encoded data removed]",
      "text/latex": [
       "$$\\left[\\begin{matrix}-1 & 0 & 0 & 0\\\\0 & 0 & 1 & 0\\\\0 & 1 & 0 & 0\\\\0 & 0 & 0 & 2\\end{matrix}\\right]$$"
      ],
      "text/plain": [
       "⎡-1  0  0  0⎤\n",
       "⎢           ⎥\n",
       "⎢0   0  1  0⎥\n",
       "⎢           ⎥\n",
       "⎢0   1  0  0⎥\n",
       "⎢           ⎥\n",
       "⎣0   0  0  2⎦"
      ]
     },
     "execution_count": 5,
     "metadata": {},
     "output_type": "execute_result"
    }
   ],
   "source": [
    "dict_of_values = {\n",
    "    (0,0): -1,\n",
    "    (1,2): 1,\n",
    "    (2,1): 1,\n",
    "    (3,3): 2\n",
    "}\n",
    "S = gr.Tensor(basis, (0, 2), dict_of_values)\n",
    "S_matrix = gr.get_matrix_from_tensor(S)\n",
    "S_matrix"
   ]
  },
  {
   "cell_type": "markdown",
   "metadata": {},
   "source": [
    "# Raising and lowering indices using a metric, contracting indices"
   ]
  },
  {
   "cell_type": "markdown",
   "metadata": {},
   "source": [
    "A very common operation in general relativity is **raising and lowering indices** (with respect to a metric) and **contracting indices**. the syntaxs of those functions are\n",
    "\n",
    "```python\n",
    "new_tensor = gr.raise_index(old_tensor, metric, index_to_be_raised)\n",
    "new_tensor = gr.lower_index(old_tensor, metric, index_to_be_lowered)\n",
    "new_tensor = gr.contract_indices(old_tensor, upper_index, lower_index)\n",
    "```"
   ]
  },
  {
   "cell_type": "markdown",
   "metadata": {},
   "source": [
    "These functions are mostly used internally for calculating the derived tensors from the Riemann tensor (i.e. Ricci tensor, scalar curvature, Einstein tensor)"
   ]
  },
  {
   "cell_type": "markdown",
   "metadata": {},
   "source": [
    "# The Levi-Civita connection of a metric "
   ]
  },
  {
   "cell_type": "markdown",
   "metadata": {},
   "source": [
    "Once we have a metric $g$, `generalrelativiy` can calculate the Christoffel symbols of the Levi-Civita connection with the function `gr.get_christoffel_symbols_from_metric`, which returns a $(1,2)$ tensor."
   ]
  },
  {
   "cell_type": "markdown",
   "metadata": {},
   "source": [
    "As a practical example, consider the metric Gödel proposed:\n",
    "\n",
    "$$ g = a^2(dx_0\\otimes dx_0 - dx_1\\otimes dx_1 + (e^{2x_1}/2)dx_2\\otimes dx_2 - dx_3\\otimes dx_3 + e^{x_1}dx_0\\otimes dx_2 + e^{x_1}dx_2 \\otimes dx_0) $$"
   ]
  },
  {
   "cell_type": "markdown",
   "metadata": {},
   "source": [
    "Let's calculate the Christoffel symbols of the Levi-Civita connection associated with this metric:"
   ]
  },
  {
   "cell_type": "code",
   "execution_count": 6,
   "metadata": {},
   "outputs": [
    {
     "data": {
      "text/latex": [
       "$(- a^{2})dx_1 \\otimes dx_1 + (a^{2})dx_0 \\otimes dx_0 + (a^{2} e^{x_{1}})dx_0 \\otimes dx_2 + (0.5 a^{2} e^{2 x_{1}})dx_2 \\otimes dx_2 + (a^{2} e^{x_{1}})dx_2 \\otimes dx_0 + (- a^{2})dx_3 \\otimes dx_3$"
      ],
      "text/plain": [
       "(-a**2)x_1* \\otimes x_1* + (a**2)x_0* \\otimes x_0* + (a**2*exp(x_1))x_0* \\otimes x_2* + (0.5*a**2*exp(2*x_1))x_2* \\otimes x_2* + (a**2*exp(x_1))x_2* \\otimes x_0* + (-a**2)x_3* \\otimes x_3*"
      ]
     },
     "execution_count": 6,
     "metadata": {},
     "output_type": "execute_result"
    }
   ],
   "source": [
    "a, x0, x1, x2, x3 = sympy.symbols('a x_0 x_1 x_2 x_3')\n",
    "basis = [x0, x1, x2, x3]\n",
    "e = sympy.exp(1)\n",
    "values = {\n",
    "    (0,0): a**2,\n",
    "    (1,1): -a**2,\n",
    "    (2,2): (1/2) * a**2 * e**(2*x1),\n",
    "    (3,3): -a**2,\n",
    "    (0,2): a**2*e**x1,\n",
    "    (2,0): a**2*e**x1,\n",
    "}\n",
    "g = gr.Tensor(basis, (0, 2), values)\n",
    "g"
   ]
  },
  {
   "cell_type": "markdown",
   "metadata": {},
   "source": [
    "Let's take a look at the matrix representation from $g$ and its respective inverse:"
   ]
  },
  {
   "cell_type": "code",
   "execution_count": 7,
   "metadata": {},
   "outputs": [
    {
     "data": {
      "image/png": "[encoded data removed]",
      "text/latex": [
       "$$\\left[\\begin{matrix}a^{2} & 0 & a^{2} e^{x_{1}} & 0\\\\0 & - a^{2} & 0 & 0\\\\a^{2} e^{x_{1}} & 0 & 0.5 a^{2} e^{2 x_{1}} & 0\\\\0 & 0 & 0 & - a^{2}\\end{matrix}\\right]$$"
      ],
      "text/plain": [
       "⎡   2             2  x₁        ⎤\n",
       "⎢  a      0      a ⋅ℯ        0 ⎥\n",
       "⎢                              ⎥\n",
       "⎢          2                   ⎥\n",
       "⎢  0     -a        0         0 ⎥\n",
       "⎢                              ⎥\n",
       "⎢ 2  x₁            2  2⋅x₁     ⎥\n",
       "⎢a ⋅ℯ     0   0.5⋅a ⋅ℯ       0 ⎥\n",
       "⎢                              ⎥\n",
       "⎢                             2⎥\n",
       "⎣  0      0        0        -a ⎦"
      ]
     },
     "execution_count": 7,
     "metadata": {},
     "output_type": "execute_result"
    }
   ],
   "source": [
    "g_matrix = gr.get_matrix_from_tensor(g)\n",
    "g_matrix"
   ]
  },
  {
   "cell_type": "code",
   "execution_count": 8,
   "metadata": {},
   "outputs": [
    {
     "data": {
      "image/png": "[encoded data removed]",
      "text/latex": [
       "$$\\left[\\begin{matrix}- \\frac{1.0}{a^{2}} & 0 & \\frac{2.0}{a^{2}} e^{- x_{1}} & 0\\\\0 & - \\frac{1}{a^{2}} & 0 & 0\\\\\\frac{2.0}{a^{2}} e^{- x_{1}} & 0 & - \\frac{2.0}{a^{2}} e^{- 2 x_{1}} & 0\\\\0 & 0 & 0 & - \\frac{1}{a^{2}}\\end{matrix}\\right]$$"
      ],
      "text/plain": [
       "⎡                      -x₁       ⎤\n",
       "⎢ -1.0            2.0⋅ℯ          ⎥\n",
       "⎢ ─────     0     ────────     0 ⎥\n",
       "⎢    2                2          ⎥\n",
       "⎢   a                a           ⎥\n",
       "⎢                                ⎥\n",
       "⎢          -1                    ⎥\n",
       "⎢   0      ───       0         0 ⎥\n",
       "⎢            2                   ⎥\n",
       "⎢           a                    ⎥\n",
       "⎢                                ⎥\n",
       "⎢     -x₁             -2⋅x₁      ⎥\n",
       "⎢2.0⋅ℯ          -2.0⋅ℯ           ⎥\n",
       "⎢────────   0   ────────────   0 ⎥\n",
       "⎢    2                2          ⎥\n",
       "⎢   a                a           ⎥\n",
       "⎢                                ⎥\n",
       "⎢                             -1 ⎥\n",
       "⎢   0       0        0        ───⎥\n",
       "⎢                               2⎥\n",
       "⎣                              a ⎦"
      ]
     },
     "execution_count": 8,
     "metadata": {},
     "output_type": "execute_result"
    }
   ],
   "source": [
    "g_matrix.inv()"
   ]
  },
  {
   "cell_type": "markdown",
   "metadata": {},
   "source": [
    "We can calculate the Christoffel symbols using the function mentioned above:"
   ]
  },
  {
   "cell_type": "code",
   "execution_count": 9,
   "metadata": {},
   "outputs": [
    {
     "name": "stdout",
     "output_type": "stream",
     "text": [
      "{((0,), (0, 1)): 1.00000000000000,\n",
      " ((0,), (1, 0)): 1.00000000000000,\n",
      " ((0,), (1, 2)): 0.5*exp(x_1),\n",
      " ((0,), (2, 1)): 0.5*exp(x_1),\n",
      " ((1,), (0, 2)): 0.5*exp(x_1),\n",
      " ((1,), (2, 0)): 0.5*exp(x_1),\n",
      " ((1,), (2, 2)): 0.5*exp(2*x_1),\n",
      " ((2,), (0, 1)): -1.0*exp(-x_1),\n",
      " ((2,), (1, 0)): -1.0*exp(-x_1)}\n"
     ]
    }
   ],
   "source": [
    "cs = gr.get_chrisoffel_symbols_from_metric(g)\n",
    "pprint(cs.values)"
   ]
  },
  {
   "cell_type": "markdown",
   "metadata": {},
   "source": [
    "All of which coincide with what's mentioned in the original article. Note that Christoffel symbols are created as `Tensor` objects, although they aren't tensors, theoretically speaking. This is because it's easier to deal with them as `Tensor` objects than it is to create a whole new class for holding them."
   ]
  },
  {
   "cell_type": "markdown",
   "metadata": {},
   "source": [
    "# Riemann tensor and friends "
   ]
  },
  {
   "cell_type": "markdown",
   "metadata": {},
   "source": [
    "`generalrelativity` has functions that allow you to calculate the Riemann, Ricci and Einstein tensors as well as the scalar curvature. Their syntax goes as follows:\n",
    "```python\n",
    "Riem = gr.get_Riemann_tensor(Christoffel_symbols)\n",
    "Ric = gr.get_Ricci_tensor(Christoffel_symbols)\n",
    "R = gr.get_scalar_curvature(Christoffel_symbols, metric)\n",
    "G = gr.get_Einstein_tensor(Christoffel_symbols, metric)\n",
    "```\n",
    "\n",
    "One can also pass the `Riem` tensor in `Ric` (in order to avoid redundant calculations, for example)\n",
    "\n",
    "If it seems redundant to put the `metric` as an argument in both `R` and `G` is becuase it theoretically is: the `Christoffel_symbols` should hold the information about the `metric` in them, but because they are implemented as tensors, they are not (yet) designed to hold that information, so one must necessarily provide it as an argument.\n",
    "\n",
    "\n",
    "Using the same example as before (i.e. the Gödel metric), let's calculate each and every one of them:"
   ]
  },
  {
   "cell_type": "markdown",
   "metadata": {},
   "source": [
    "## Riemann tensor "
   ]
  },
  {
   "cell_type": "code",
   "execution_count": 10,
   "metadata": {},
   "outputs": [
    {
     "name": "stdout",
     "output_type": "stream",
     "text": [
      "{((0,), (0, 0, 2)): 0.5*exp(x_1),\n",
      " ((0,), (0, 2, 0)): -0.5*exp(x_1),\n",
      " ((0,), (1, 0, 1)): -0.500000000000000,\n",
      " ((0,), (1, 1, 0)): 0.500000000000000,\n",
      " ((0,), (1, 1, 2)): 1.0*exp(x_1),\n",
      " ((0,), (1, 2, 1)): -1.0*exp(x_1),\n",
      " ((0,), (2, 0, 2)): 0.25*exp(2*x_1),\n",
      " ((0,), (2, 2, 0)): -0.25*exp(2*x_1),\n",
      " ((1,), (0, 0, 1)): -0.500000000000000,\n",
      " ((1,), (0, 1, 0)): 0.500000000000000,\n",
      " ((1,), (0, 1, 2)): 0.5*exp(x_1),\n",
      " ((1,), (0, 2, 1)): -0.5*exp(x_1),\n",
      " ((1,), (2, 0, 1)): -0.5*exp(x_1),\n",
      " ((1,), (2, 1, 0)): 0.5*exp(x_1),\n",
      " ((1,), (2, 1, 2)): 0.75*exp(2*x_1),\n",
      " ((1,), (2, 2, 1)): -0.75*exp(2*x_1),\n",
      " ((2,), (0, 0, 2)): -0.500000000000000,\n",
      " ((2,), (0, 2, 0)): 0.500000000000000,\n",
      " ((2,), (1, 1, 2)): -0.500000000000000,\n",
      " ((2,), (1, 2, 1)): 0.500000000000000,\n",
      " ((2,), (2, 0, 2)): -0.5*exp(x_1),\n",
      " ((2,), (2, 2, 0)): 0.5*exp(x_1)}\n"
     ]
    }
   ],
   "source": [
    "Riem = gr.get_Riemann_tensor(cs)\n",
    "pprint(Riem.values)"
   ]
  },
  {
   "cell_type": "markdown",
   "metadata": {},
   "source": [
    "## Ricci tensor "
   ]
  },
  {
   "cell_type": "code",
   "execution_count": 11,
   "metadata": {},
   "outputs": [
    {
     "name": "stdout",
     "output_type": "stream",
     "text": [
      "{((), (0, 0)): 1.00000000000000,\n",
      " ((), (0, 2)): 1.0*exp(x_1),\n",
      " ((), (2, 0)): 1.0*exp(x_1),\n",
      " ((), (2, 2)): 1.0*exp(2*x_1)}\n"
     ]
    }
   ],
   "source": [
    "Ric = gr.get_Ricci_tensor(cs, Riem)\n",
    "pprint(Ric.values)"
   ]
  },
  {
   "cell_type": "code",
   "execution_count": 12,
   "metadata": {},
   "outputs": [
    {
     "name": "stdout",
     "output_type": "stream",
     "text": [
      "{((), (0, 0)): 1.00000000000000,\n",
      " ((), (0, 2)): 1.0*exp(x_1),\n",
      " ((), (2, 0)): 1.0*exp(x_1),\n",
      " ((), (2, 2)): 1.0*exp(2*x_1)}\n"
     ]
    }
   ],
   "source": [
    "Ric = gr.get_Ricci_tensor(cs)\n",
    "pprint(Ric.values)"
   ]
  },
  {
   "cell_type": "markdown",
   "metadata": {},
   "source": [
    "or, in LaTeX:"
   ]
  },
  {
   "cell_type": "code",
   "execution_count": 13,
   "metadata": {},
   "outputs": [
    {
     "data": {
      "text/latex": [
       "$(1.0 e^{2 x_{1}})dx_2 \\otimes dx_2 + (1.0 e^{x_{1}})dx_2 \\otimes dx_0 + (1.0)dx_0 \\otimes dx_0 + (1.0 e^{x_{1}})dx_0 \\otimes dx_2$"
      ],
      "text/plain": [
       "(1.0*exp(2*x_1))x_2* \\otimes x_2* + (1.0*exp(x_1))x_2* \\otimes x_0* + (1.00000000000000)x_0* \\otimes x_0* + (1.0*exp(x_1))x_0* \\otimes x_2*"
      ]
     },
     "execution_count": 13,
     "metadata": {},
     "output_type": "execute_result"
    }
   ],
   "source": [
    "Ric"
   ]
  },
  {
   "cell_type": "markdown",
   "metadata": {},
   "source": [
    "## Scalar curvature"
   ]
  },
  {
   "cell_type": "code",
   "execution_count": 14,
   "metadata": {},
   "outputs": [
    {
     "name": "stdout",
     "output_type": "stream",
     "text": [
      "{((), ()): 1.0/a**2}\n"
     ]
    },
    {
     "data": {
      "text/latex": [
       "$(\\frac{1.0}{a^{2}})$"
      ],
      "text/plain": [
       "(1.0/a**2)"
      ]
     },
     "execution_count": 14,
     "metadata": {},
     "output_type": "execute_result"
    }
   ],
   "source": [
    "R = gr.get_scalar_curvature(cs, g)\n",
    "pprint(R.values)\n",
    "R"
   ]
  },
  {
   "cell_type": "markdown",
   "metadata": {},
   "source": [
    "## Einstein tensor "
   ]
  },
  {
   "cell_type": "code",
   "execution_count": 15,
   "metadata": {},
   "outputs": [
    {
     "name": "stdout",
     "output_type": "stream",
     "text": [
      "{((), (0, 0)): 0.500000000000000,\n",
      " ((), (0, 2)): 0.5*exp(x_1),\n",
      " ((), (1, 1)): 0.500000000000000,\n",
      " ((), (2, 0)): 0.5*exp(x_1),\n",
      " ((), (2, 2)): 0.75*exp(2*x_1),\n",
      " ((), (3, 3)): 0.500000000000000}\n"
     ]
    }
   ],
   "source": [
    "G = gr.get_Einstein_tensor(cs, g)\n",
    "pprint(G.values)"
   ]
  },
  {
   "cell_type": "markdown",
   "metadata": {},
   "source": [
    "# Hyperbolic metric in $\\mathbb{R}^2$ "
   ]
  },
  {
   "cell_type": "markdown",
   "metadata": {},
   "source": [
    "Let's define another metric:\n",
    "\n",
    "$$ g = (1/y^2)(dx\\otimes dx + dy\\otimes dy) $$"
   ]
  },
  {
   "cell_type": "code",
   "execution_count": 16,
   "metadata": {
    "collapsed": true
   },
   "outputs": [],
   "source": [
    "x, y = sympy.symbols('x y')"
   ]
  },
  {
   "cell_type": "code",
   "execution_count": 17,
   "metadata": {
    "collapsed": true
   },
   "outputs": [],
   "source": [
    "values = {\n",
    "    (0,0): 1/y**2,\n",
    "    (1,1): 1/y**2\n",
    "}\n",
    "basis = [x, y]\n",
    "g = gr.Tensor(basis, (0, 2), values)"
   ]
  },
  {
   "cell_type": "code",
   "execution_count": 18,
   "metadata": {},
   "outputs": [
    {
     "data": {
      "text/latex": [
       "$(\\frac{1}{y^{2}})dx \\otimes dx + (\\frac{1}{y^{2}})dy \\otimes dy$"
      ],
      "text/plain": [
       "(y**(-2))x* \\otimes x* + (y**(-2))y* \\otimes y*"
      ]
     },
     "execution_count": 18,
     "metadata": {},
     "output_type": "execute_result"
    }
   ],
   "source": [
    "g"
   ]
  },
  {
   "cell_type": "code",
   "execution_count": 20,
   "metadata": {},
   "outputs": [
    {
     "data": {
      "image/png": "[encoded data removed]",
      "text/latex": [
       "$$\\left[\\begin{matrix}\\frac{1}{y^{2}} & 0\\\\0 & \\frac{1}{y^{2}}\\end{matrix}\\right]$$"
      ],
      "text/plain": [
       "⎡1     ⎤\n",
       "⎢──  0 ⎥\n",
       "⎢ 2    ⎥\n",
       "⎢y     ⎥\n",
       "⎢      ⎥\n",
       "⎢    1 ⎥\n",
       "⎢0   ──⎥\n",
       "⎢     2⎥\n",
       "⎣    y ⎦"
      ]
     },
     "execution_count": 20,
     "metadata": {},
     "output_type": "execute_result"
    }
   ],
   "source": [
    "gr.get_matrix_from_tensor(g)"
   ]
  },
  {
   "cell_type": "code",
   "execution_count": 21,
   "metadata": {},
   "outputs": [
    {
     "data": {
      "text/latex": [
       "$(-2.0)$"
      ],
      "text/plain": [
       "(-2.00000000000000)"
      ]
     },
     "execution_count": 21,
     "metadata": {},
     "output_type": "execute_result"
    }
   ],
   "source": [
    "cs = gr.get_chrisoffel_symbols_from_metric(g)\n",
    "gr.get_scalar_curvature(cs, g)"
   ]
  }
 ],
 "metadata": {
  "kernelspec": {
   "display_name": "Python 3",
   "language": "python",
   "name": "python3"
  },
  "language_info": {
   "codemirror_mode": {
    "name": "ipython",
    "version": 3
   },
   "file_extension": ".py",
   "mimetype": "text/x-python",
   "name": "python",
   "nbconvert_exporter": "python",
   "pygments_lexer": "ipython3",
   "version": "3.5.2"
  }
 },
 "nbformat": 4,
 "nbformat_minor": 2
}
