{
 "cells": [
  {
   "cell_type": "markdown",
   "metadata": {},
   "source": [
    "# The basics of `generalrelativity` "
   ]
  },
  {
   "cell_type": "markdown",
   "metadata": {},
   "source": [
    "`generalrelativity.py` contains some algorithms related to the basics of multilinear algebra and differential geometry, algorithms which relate to some of the calculations that appear in the everyday work of a physicist or a mathematician who works in general relativity. These algorithms are built upon sympy.\n",
    "\n",
    "In this first tutorial, we deal with multilinear algebra and the manipulation of the `Tensor` object. In the next one we learn about index manipulation, and in the third one we use these algorithms to implement the Schwarzschild metric."
   ]
  },
  {
   "cell_type": "code",
   "execution_count": 1,
   "metadata": {
    "collapsed": true
   },
   "outputs": [],
   "source": [
    "import generalrelativity as gr\n",
    "import sympy\n",
    "sympy.init_printing(use_latex=True)"
   ]
  },
  {
   "cell_type": "code",
   "execution_count": 2,
   "metadata": {
    "collapsed": true
   },
   "outputs": [],
   "source": [
    "from pprint import pprint"
   ]
  },
  {
   "cell_type": "markdown",
   "metadata": {},
   "source": [
    "# Multiindices"
   ]
  },
  {
   "cell_type": "markdown",
   "metadata": {},
   "source": [
    "The main object of the library (i.e. the `Tensor` object) relies heavily on multiindices and their manipulation. For us, a $p$-multiindex is just a tuple $(a_1, \\dots, a_p)$ in which every $a_i$ is between $0$ and $n-1$ for some $n$ (the dimension of a vector space in our particular case).\n",
    "\n",
    "This library includes a function for getting all multiindices of certain length $p$ and certain dimension $n$:"
   ]
  },
  {
   "cell_type": "code",
   "execution_count": 3,
   "metadata": {},
   "outputs": [
    {
     "data": {
      "image/png": "[encoded data removed]",
      "text/latex": [
       "$$\\left [ \\left ( 0, \\quad 0\\right ), \\quad \\left ( 0, \\quad 1\\right ), \\quad \\left ( 0, \\quad 2\\right ), \\quad \\left ( 0, \\quad 3\\right ), \\quad \\left ( 1, \\quad 0\\right ), \\quad \\left ( 1, \\quad 1\\right ), \\quad \\left ( 1, \\quad 2\\right ), \\quad \\left ( 1, \\quad 3\\right ), \\quad \\left ( 2, \\quad 0\\right ), \\quad \\left ( 2, \\quad 1\\right ), \\quad \\left ( 2, \\quad 2\\right ), \\quad \\left ( 2, \\quad 3\\right ), \\quad \\left ( 3, \\quad 0\\right ), \\quad \\left ( 3, \\quad 1\\right ), \\quad \\left ( 3, \\quad 2\\right ), \\quad \\left ( 3, \\quad 3\\right )\\right ]$$"
      ],
      "text/plain": [
       "[(0, 0), (0, 1), (0, 2), (0, 3), (1, 0), (1, 1), (1, 2), (1, 3), (2, 0), (2, 1\n",
       "), (2, 2), (2, 3), (3, 0), (3, 1), (3, 2), (3, 3)]"
      ]
     },
     "execution_count": 3,
     "metadata": {},
     "output_type": "execute_result"
    }
   ],
   "source": [
    "n = 4\n",
    "p = 2\n",
    "list_of_multiindices = gr.get_all_multiindices(p, n)\n",
    "list_of_multiindices"
   ]
  },
  {
   "cell_type": "markdown",
   "metadata": {},
   "source": [
    "## Special types of multiindices"
   ]
  },
  {
   "cell_type": "markdown",
   "metadata": {},
   "source": [
    "The only $0$-multiindex is the python object `None`, and $1$-multiindices must still be tuples, so one must write them like `(a_1, )` in python."
   ]
  },
  {
   "cell_type": "code",
   "execution_count": 4,
   "metadata": {},
   "outputs": [
    {
     "name": "stdout",
     "output_type": "stream",
     "text": [
      "[(0,), (1,), (2,), (3,)]\n"
     ]
    }
   ],
   "source": [
    "n = 4\n",
    "p = 1\n",
    "list_of_multiindices = gr.get_all_multiindices(p, n)\n",
    "print(list_of_multiindices)"
   ]
  },
  {
   "cell_type": "markdown",
   "metadata": {},
   "source": [
    "# The `Tensor` object "
   ]
  },
  {
   "cell_type": "markdown",
   "metadata": {},
   "source": [
    "`generalrelativity` implements the tensor object in a very algebraic and generic sense. Sadly, we have the bound of dealing always in coordinates (that is, always talking about the coefficients with respect to some basis). To create a tensor $\\Gamma \\in T^{(p,q)}(V)$ we must specify a **basis**, a **type** and a **dict_of_values**:\n",
    "- The **basis** is a list of sympy symbols, which represent a basis for the generic vector space $V$.\n",
    "- The **type** is a tuple $(p, q)$ of nonnegative integers.\n",
    "- The **dict_of_vales** has for keys tuples of multiindices $(a, b)$ and values the actual value $\\Gamma^a_b$.\n",
    "\n",
    "For example, say we want to create the tensor\n",
    "\n",
    "$$T = 3e_0\\otimes e_0\\otimes e_0^*\\otimes e_1^* - 2 e_0\\otimes e_1\\otimes e_1^*\\otimes e_3^* \\in T^{(2,2)}(V)$$\n",
    "\n",
    "we do so like this:"
   ]
  },
  {
   "cell_type": "code",
   "execution_count": 5,
   "metadata": {},
   "outputs": [
    {
     "data": {
      "text/latex": [
       "$(3)e_0 \\otimes e_0 \\otimes e_0^* \\otimes e_1^* + (-2)e_0 \\otimes e_1 \\otimes e_1^* \\otimes e_3^*$"
      ],
      "text/plain": [
       "(3)e_0 \\otimes e_0 \\otimes e_0* \\otimes e_1* + (-2)e_0 \\otimes e_1 \\otimes e_1* \\otimes e_3*"
      ]
     },
     "execution_count": 5,
     "metadata": {},
     "output_type": "execute_result"
    }
   ],
   "source": [
    "e0, e1, e2, e3 = sympy.symbols('e_0 e_1 e_2 e_3')\n",
    "basis = [e0, e1, e2, e3]\n",
    "dict_of_values = {\n",
    "    ((0,0), (0,1)): 3, # The first sumand\n",
    "    ((0,1), (1,3)): -2 # The second sumand\n",
    "}\n",
    "T = gr.Tensor(basis, (2, 2), dict_of_values)\n",
    "T"
   ]
  },
  {
   "cell_type": "markdown",
   "metadata": {},
   "source": [
    "The tensors object have a LaTeX printing function (but this depends obviously on the availability of IPython, LaTeX and on the running of `sympy.init_printing(use_latex=True)`). We could print it raw:"
   ]
  },
  {
   "cell_type": "code",
   "execution_count": 6,
   "metadata": {},
   "outputs": [
    {
     "name": "stdout",
     "output_type": "stream",
     "text": [
      "(3)e_0 \\otimes e_0 \\otimes e_0* \\otimes e_1* + (-2)e_0 \\otimes e_1 \\otimes e_1* \\otimes e_3*\n"
     ]
    }
   ],
   "source": [
    "print(T)"
   ]
  },
  {
   "cell_type": "markdown",
   "metadata": {},
   "source": [
    "## More details about the `dict_of_values` "
   ]
  },
  {
   "cell_type": "markdown",
   "metadata": {},
   "source": [
    "Say we want to construct a $(0,2)$ Tensor. Initially, the `dict_of_values` should be of the form"
   ]
  },
  {
   "cell_type": "code",
   "execution_count": 7,
   "metadata": {
    "collapsed": true
   },
   "outputs": [],
   "source": [
    "dict_of_values_1 = {\n",
    "    (None, (0,0)): -1,\n",
    "    (None, (1,1)): 1,\n",
    "    (None, (2,2)): 1,\n",
    "    (None, (3,3)): 1,\n",
    "}"
   ]
  },
  {
   "cell_type": "markdown",
   "metadata": {},
   "source": [
    "That is, one should specify the $0$-multiindex `None`. In the long run, this becomes tedious, and it is because of this that the `Tensor` object can also accept, for this case, the following `dict_of_values`:"
   ]
  },
  {
   "cell_type": "code",
   "execution_count": 8,
   "metadata": {
    "collapsed": true
   },
   "outputs": [],
   "source": [
    "dict_of_values_2 = {\n",
    "    (0,0): -1,\n",
    "    (1,1): 1,\n",
    "    (2,2): 1,\n",
    "    (3,3): 1,\n",
    "}"
   ]
  },
  {
   "cell_type": "markdown",
   "metadata": {},
   "source": [
    "and the two tensors generated would be equal (once we specify equal bases and equal types)"
   ]
  },
  {
   "cell_type": "code",
   "execution_count": 9,
   "metadata": {},
   "outputs": [
    {
     "name": "stdout",
     "output_type": "stream",
     "text": [
      "True\n"
     ]
    }
   ],
   "source": [
    "T1 = gr.Tensor(basis, (0, 2), dict_of_values_1)\n",
    "T2 = gr.Tensor(basis, (0, 2), dict_of_values_2)\n",
    "print(T1 == T2)"
   ]
  },
  {
   "cell_type": "markdown",
   "metadata": {},
   "source": [
    "The same happens for $1$-multiindices: a priori a $1$-multiindex is of the form `(a_1, )`, so if we wanted to create for example a $(1,2)$ tensor one should create a `dict_of_values` of the form"
   ]
  },
  {
   "cell_type": "code",
   "execution_count": 10,
   "metadata": {
    "collapsed": true
   },
   "outputs": [],
   "source": [
    "dict_of_values_1 = {\n",
    "    ((0, ), (1, 1)): 3,\n",
    "    ((1, ), (0, 1)): -1,\n",
    "    ((0, ), (2, 3)): 2\n",
    "}"
   ]
  },
  {
   "cell_type": "markdown",
   "metadata": {},
   "source": [
    "We relax the conditions to `dict_of_values` like"
   ]
  },
  {
   "cell_type": "code",
   "execution_count": 11,
   "metadata": {
    "collapsed": true
   },
   "outputs": [],
   "source": [
    "dict_of_values_2 = {\n",
    "    (0, (1, 1)): 3,\n",
    "    (1, (0, 1)): -1,\n",
    "    (0, (2, 3)): 2\n",
    "}"
   ]
  },
  {
   "cell_type": "code",
   "execution_count": 12,
   "metadata": {},
   "outputs": [
    {
     "name": "stdout",
     "output_type": "stream",
     "text": [
      "True\n"
     ]
    }
   ],
   "source": [
    "T1 = gr.Tensor(basis, (1, 2), dict_of_values_1)\n",
    "T2 = gr.Tensor(basis, (1, 2), dict_of_values_2)\n",
    "print(T1 == T2)"
   ]
  },
  {
   "cell_type": "markdown",
   "metadata": {},
   "source": [
    "# Operations with `Tensor` objects "
   ]
  },
  {
   "cell_type": "markdown",
   "metadata": {},
   "source": [
    "One can **add** tensor objects if they have the same basis and type, one can **multiply** a tensor object with `int`s, `float`s, $(0,0)$-tensors and even `sympy` objects and symbols. Moreover, one can contract indices and raise and lower indices according to a special $(0,2)$-tensor, but we will explain this on the second tutorial."
   ]
  },
  {
   "cell_type": "code",
   "execution_count": 25,
   "metadata": {},
   "outputs": [],
   "source": [
    "dict_of_values_S = {\n",
    "    ((0,0), (0,1)): 4,\n",
    "    ((1,1), (2,1)): -1,\n",
    "}\n",
    "S = gr.Tensor(basis, (2, 2), dict_of_values_S)"
   ]
  },
  {
   "cell_type": "code",
   "execution_count": 28,
   "metadata": {},
   "outputs": [
    {
     "data": {
      "text/latex": [
       "$(3)e_0 \\otimes e_0 \\otimes e_0^* \\otimes e_1^* + (-2)e_0 \\otimes e_1 \\otimes e_1^* \\otimes e_3^*$"
      ],
      "text/plain": [
       "(3)e_0 \\otimes e_0 \\otimes e_0* \\otimes e_1* + (-2)e_0 \\otimes e_1 \\otimes e_1* \\otimes e_3*"
      ]
     },
     "execution_count": 28,
     "metadata": {},
     "output_type": "execute_result"
    }
   ],
   "source": [
    "T"
   ]
  },
  {
   "cell_type": "code",
   "execution_count": 29,
   "metadata": {},
   "outputs": [
    {
     "data": {
      "text/latex": [
       "$(4)e_0 \\otimes e_0 \\otimes e_0^* \\otimes e_1^* + (-1)e_1 \\otimes e_1 \\otimes e_2^* \\otimes e_1^*$"
      ],
      "text/plain": [
       "(4)e_0 \\otimes e_0 \\otimes e_0* \\otimes e_1* + (-1)e_1 \\otimes e_1 \\otimes e_2* \\otimes e_1*"
      ]
     },
     "execution_count": 29,
     "metadata": {},
     "output_type": "execute_result"
    }
   ],
   "source": [
    "S"
   ]
  },
  {
   "cell_type": "code",
   "execution_count": 26,
   "metadata": {},
   "outputs": [
    {
     "data": {
      "text/latex": [
       "$(7)e_0 \\otimes e_0 \\otimes e_0^* \\otimes e_1^* + (-1)e_1 \\otimes e_1 \\otimes e_2^* \\otimes e_1^* + (-2)e_0 \\otimes e_1 \\otimes e_1^* \\otimes e_3^*$"
      ],
      "text/plain": [
       "(7)e_0 \\otimes e_0 \\otimes e_0* \\otimes e_1* + (-1)e_1 \\otimes e_1 \\otimes e_2* \\otimes e_1* + (-2)e_0 \\otimes e_1 \\otimes e_1* \\otimes e_3*"
      ]
     },
     "execution_count": 26,
     "metadata": {},
     "output_type": "execute_result"
    }
   ],
   "source": [
    "T + S"
   ]
  },
  {
   "cell_type": "code",
   "execution_count": 27,
   "metadata": {},
   "outputs": [
    {
     "data": {
      "text/latex": [
       "$(9)e_0 \\otimes e_0 \\otimes e_0^* \\otimes e_1^* + (-6)e_0 \\otimes e_1 \\otimes e_1^* \\otimes e_3^*$"
      ],
      "text/plain": [
       "(9)e_0 \\otimes e_0 \\otimes e_0* \\otimes e_1* + (-6)e_0 \\otimes e_1 \\otimes e_1* \\otimes e_3*"
      ]
     },
     "execution_count": 27,
     "metadata": {},
     "output_type": "execute_result"
    }
   ],
   "source": [
    "3*T"
   ]
  },
  {
   "cell_type": "code",
   "execution_count": 15,
   "metadata": {},
   "outputs": [
    {
     "data": {
      "text/latex": [
       "$(3*pi)e_0 \\otimes e_0 \\otimes e_0^* \\otimes e_1^* + (-2*pi)e_0 \\otimes e_1 \\otimes e_1^* \\otimes e_3^*$"
      ],
      "text/plain": [
       "(3*pi)e_0 \\otimes e_0 \\otimes e_0* \\otimes e_1* + (-2*pi)e_0 \\otimes e_1 \\otimes e_1* \\otimes e_3*"
      ]
     },
     "execution_count": 15,
     "metadata": {},
     "output_type": "execute_result"
    }
   ],
   "source": [
    "sympy.pi*T"
   ]
  },
  {
   "cell_type": "markdown",
   "metadata": {},
   "source": [
    "## Substitution of `sympy.symbols` in tensors "
   ]
  },
  {
   "cell_type": "markdown",
   "metadata": {},
   "source": [
    "Nothing impedes us of using `sympy.symbols` in our tensors. For example:"
   ]
  },
  {
   "cell_type": "code",
   "execution_count": 33,
   "metadata": {},
   "outputs": [
    {
     "data": {
      "text/latex": [
       "$(t^2)r \\otimes t^* \\otimes t^* + (r*t)\\theta \\otimes r^* \\otimes t^* + (sin(\\phi + \\theta))t \\otimes r^* \\otimes \\phi^*$"
      ],
      "text/plain": [
       "(t**2)r \\otimes t* \\otimes t* + (r*t)\\theta \\otimes r* \\otimes t* + (sin(\\phi + \\theta))t \\otimes r* \\otimes \\phi*"
      ]
     },
     "execution_count": 33,
     "metadata": {},
     "output_type": "execute_result"
    }
   ],
   "source": [
    "t, r, theta, phi = sympy.symbols('t r \\\\theta \\\\phi')\n",
    "dict_of_values = {\n",
    "    (1, (0, 0)): t**2,\n",
    "    (2, (1, 0)): r*t,\n",
    "    (0, (1, 3)): sympy.sin(theta + phi)\n",
    "}\n",
    "basis = [t, r, theta, phi]\n",
    "T = gr.Tensor(basis, (1, 2), dict_of_values)\n",
    "T"
   ]
  },
  {
   "cell_type": "markdown",
   "metadata": {},
   "source": [
    "we can substitute values with the usual `subs` function, which takes a list of tuples of the substitutions to be performed:"
   ]
  },
  {
   "cell_type": "code",
   "execution_count": 35,
   "metadata": {},
   "outputs": [
    {
     "data": {
      "text/latex": [
       "$(25)r \\otimes t^* \\otimes t^* + (12.5000000000000)\\theta \\otimes r^* \\otimes t^* + (sin(\\phi + 0.5*pi))t \\otimes r^* \\otimes \\phi^*$"
      ],
      "text/plain": [
       "(25)r \\otimes t* \\otimes t* + (12.5000000000000)\\theta \\otimes r* \\otimes t* + (sin(\\phi + 0.5*pi))t \\otimes r* \\otimes \\phi*"
      ]
     },
     "execution_count": 35,
     "metadata": {},
     "output_type": "execute_result"
    }
   ],
   "source": [
    "T.subs([(t, 5), (r, 2.5), (theta, (1/2)*sympy.pi)])"
   ]
  },
  {
   "cell_type": "markdown",
   "metadata": {},
   "source": [
    "This creates a new object, $T$ remains unmodified."
   ]
  },
  {
   "cell_type": "code",
   "execution_count": 37,
   "metadata": {},
   "outputs": [
    {
     "data": {
      "text/latex": [
       "$(t^2)r \\otimes t^* \\otimes t^* + (r*t)\\theta \\otimes r^* \\otimes t^* + (sin(\\phi + \\theta))t \\otimes r^* \\otimes \\phi^*$"
      ],
      "text/plain": [
       "(t**2)r \\otimes t* \\otimes t* + (r*t)\\theta \\otimes r* \\otimes t* + (sin(\\phi + \\theta))t \\otimes r* \\otimes \\phi*"
      ]
     },
     "execution_count": 37,
     "metadata": {},
     "output_type": "execute_result"
    }
   ],
   "source": [
    "T"
   ]
  }
 ],
 "metadata": {
  "kernelspec": {
   "display_name": "Python 3",
   "language": "python",
   "name": "python3"
  },
  "language_info": {
   "codemirror_mode": {
    "name": "ipython",
    "version": 3
   },
   "file_extension": ".py",
   "mimetype": "text/x-python",
   "name": "python",
   "nbconvert_exporter": "python",
   "pygments_lexer": "ipython3",
   "version": "3.6.3"
  }
 },
 "nbformat": 4,
 "nbformat_minor": 2
}
